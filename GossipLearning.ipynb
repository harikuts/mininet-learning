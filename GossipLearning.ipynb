{
 "cells": [
  {
   "cell_type": "markdown",
   "metadata": {},
   "source": [
    "# Gossip Learning Overview"
   ]
  },
  {
   "cell_type": "markdown",
   "metadata": {},
   "source": [
    "# Implementation"
   ]
  },
  {
   "cell_type": "markdown",
   "metadata": {},
   "source": [
    "## Dummy Network Implementation"
   ]
  },
  {
   "cell_type": "code",
   "execution_count": 19,
   "metadata": {},
   "outputs": [],
   "source": [
    "import time\n",
    "import threading\n",
    "import traceback\n",
    "\n",
    "# Packet class\n",
    "class Packet:\n",
    "    def __init__(self, src, dest, data):\n",
    "        self.src = src\n",
    "        self.dest = dest\n",
    "        self.data = data\n",
    "    def __str__(self):\n",
    "        return \"src=\" + self.src + \",dest=\" + self.dest + \",data=\" + str(self.data)\n",
    "\n",
    "class DummyNet:\n",
    "    def __init__(self, address, neighbor_addrs = []):\n",
    "        self.ip = address\n",
    "        self.neighbor_addrs = neighbor_addrs\n",
    "        self.outbox = []\n",
    "        self.inbox = []\n",
    "        self.active = True\n",
    "    def init_network(self, registry):\n",
    "        # Build neighbors\n",
    "        self.build_neighbors(registry)\n",
    "        # Init sender and receiver processes\n",
    "        self.init_sender()\n",
    "        self.init_receiver()\n",
    "    def kill(self):\n",
    "        self.active = False\n",
    "    def print_(self, message):\n",
    "        # Network level print messaging\n",
    "        output = \"NET::[\" + str(self.ip) + \"]::\"\n",
    "        try:\n",
    "            output = output + str(message)\n",
    "        except:\n",
    "            output = output + \"Message not printable.\"\n",
    "        print(output)\n",
    "    def build_neighbors(self, registry):\n",
    "        # The registry is built as a dictionary with key IP address an entry DummyNet object\n",
    "        self.neighbors = {}\n",
    "        for addr in self.neighbor_addrs:\n",
    "            self.neighbors[addr] = registry[addr]\n",
    "    def init_sender(self):\n",
    "        # Start sender service\n",
    "        threading.Thread(target=self.__send, args=()).start()\n",
    "        pass\n",
    "    def init_receiver(self):\n",
    "        # Start receiver service\n",
    "        threading.Thread(target=self.__receive, args=()).start()\n",
    "        pass\n",
    "    def __send(self):\n",
    "        # Network layer send function\n",
    "        while self.active:\n",
    "            try:\n",
    "                if len(self.outbox):\n",
    "                    packet = self.outbox.pop(0)\n",
    "                    self.neighbors[packet.dest].inbox.append(packet)\n",
    "                    self.print_(\"Sent: \" + str(packet))\n",
    "            except Exception as e:\n",
    "                self.print_(\"Sending error has occurred.\")\n",
    "                traceback.print_exc()\n",
    "                \n",
    "    def __receive(self):\n",
    "        # Receiving/processing function\n",
    "        while self.active:\n",
    "            try:\n",
    "                if len(self.inbox):\n",
    "                    packet = self.inbox.pop(0)\n",
    "                    self.print_(\"Received: \" + str(packet))\n",
    "            except Exception as e:\n",
    "                self.print_(\"Receiving error has occurred.\")\n",
    "                traceback.print_exc()\n",
    "        pass\n",
    "    def send(self, payload, address):\n",
    "        # Application layer send function\n",
    "        # Create packet\n",
    "        packet = Packet(self.ip, address, payload)\n",
    "        # Load packet into outbox\n",
    "        self.outbox.append(packet)"
   ]
  },
  {
   "cell_type": "markdown",
   "metadata": {},
   "source": [
    "## Execution"
   ]
  },
  {
   "cell_type": "code",
   "execution_count": 21,
   "metadata": {},
   "outputs": [
    {
     "name": "stdout",
     "output_type": "stream",
     "text": [
      "NET::[10.0.0.1]::Sent: src=10.0.0.1,dest=10.0.0.2,data=hi\n",
      "NET::[10.0.0.2]::Received: src=10.0.0.1,dest=10.0.0.2,data=hi\n",
      "NET::[10.0.0.2]::Sent: src=10.0.0.2,dest=10.0.0.3,data=absolutely not\n",
      "NET::[10.0.0.3]::Received: src=10.0.0.2,dest=10.0.0.3,data=absolutely not\n"
     ]
    }
   ],
   "source": [
    "import time\n",
    "\n",
    "# Create a graph\n",
    "graph = {}\n",
    "graph[\"10.0.0.1\"] = [\"10.0.0.2\", \"10.0.0.3\"]\n",
    "graph[\"10.0.0.2\"] = [\"10.0.0.1\", \"10.0.0.3\"]\n",
    "graph[\"10.0.0.3\"] = [\"10.0.0.1\", \"10.0.0.2\"]\n",
    "\n",
    "# Create nodes\n",
    "nodeRegistry = {}\n",
    "for addr in graph.keys():\n",
    "    newNode = DummyNet(addr, graph[addr])\n",
    "    nodeRegistry[addr] = newNode\n",
    "# Build network (decentralized)\n",
    "for addr in graph.keys():\n",
    "    nodeRegistry[addr].init_network(nodeRegistry)\n",
    "\n",
    "nodeRegistry[\"10.0.0.1\"].send(\"hi\", \"10.0.0.2\")\n",
    "time.sleep(2.5)\n",
    "nodeRegistry[\"10.0.0.2\"].send(\"absolutely not\", \"10.0.0.3\")\n",
    "time.sleep(2.5)\n",
    "\n",
    "# Kill all nodes\n",
    "for addr in graph.keys():\n",
    "    nodeRegistry[addr].kill()\n"
   ]
  },
  {
   "cell_type": "code",
   "execution_count": null,
   "metadata": {},
   "outputs": [],
   "source": []
  }
 ],
 "metadata": {
  "kernelspec": {
   "display_name": "Python 3",
   "language": "python",
   "name": "python3"
  },
  "language_info": {
   "codemirror_mode": {
    "name": "ipython",
    "version": 3
   },
   "file_extension": ".py",
   "mimetype": "text/x-python",
   "name": "python",
   "nbconvert_exporter": "python",
   "pygments_lexer": "ipython3",
   "version": "3.8.2"
  }
 },
 "nbformat": 4,
 "nbformat_minor": 4
}
