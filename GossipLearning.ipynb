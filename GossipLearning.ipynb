{
 "cells": [
  {
   "cell_type": "markdown",
   "metadata": {},
   "source": [
    "# Gossip Learning Overview"
   ]
  },
  {
   "cell_type": "markdown",
   "metadata": {},
   "source": [
    "# Implementation"
   ]
  },
  {
   "cell_type": "markdown",
   "metadata": {},
   "source": [
    "## Dummy Network Implementation"
   ]
  },
  {
   "cell_type": "code",
   "execution_count": 1,
   "metadata": {},
   "outputs": [],
   "source": [
    "import time\n",
    "import threading\n",
    "import traceback\n",
    "\n",
    "# Packet class\n",
    "class Packet:\n",
    "    def __init__(self, src, dest, data):\n",
    "        self.src = src\n",
    "        self.dest = dest\n",
    "        self.data = data\n",
    "    def __str__(self):\n",
    "        return \"src=\" + self.src + \",dest=\" + self.dest + \",data=\" + str(self.data)\n",
    "\n",
    "class DummyNet:\n",
    "    def __init__(self, address, neighbor_addrs = []):\n",
    "        self.ip = address\n",
    "        self.neighbor_addrs = neighbor_addrs\n",
    "        self.outbox = []\n",
    "        self.inbox = []\n",
    "        self.active = True\n",
    "    def init_network(self, registry):\n",
    "        # Build neighbors\n",
    "        self.build_neighbors(registry)\n",
    "        # Init sender and receiver processes\n",
    "        self.init_sender()\n",
    "        self.init_receiver()\n",
    "    def kill(self):\n",
    "        self.active = False\n",
    "    def print_(self, message):\n",
    "        # Network level print messaging\n",
    "        output = \"NET::[\" + str(self.ip) + \"]::\"\n",
    "        try:\n",
    "            output = output + str(message)\n",
    "        except:\n",
    "            output = output + \"Message not printable.\"\n",
    "        print(output)\n",
    "    def build_neighbors(self, registry):\n",
    "        # The registry is built as a dictionary with key IP address an entry DummyNet object\n",
    "        self.neighbors = {}\n",
    "        for addr in self.neighbor_addrs:\n",
    "            self.neighbors[addr] = registry[addr]\n",
    "    def init_sender(self):\n",
    "        # Start sender service\n",
    "        threading.Thread(target=self.__send, args=()).start()\n",
    "        pass\n",
    "    def init_receiver(self):\n",
    "        # Start receiver service\n",
    "        threading.Thread(target=self.__receive, args=()).start()\n",
    "        pass\n",
    "    def __send(self):\n",
    "        # Network layer send function\n",
    "        while self.active:\n",
    "            try:\n",
    "                if len(self.outbox):\n",
    "                    packet = self.outbox.pop(0)\n",
    "                    self.neighbors[packet.dest].inbox.append(packet)\n",
    "                    self.print_(\"Sent: \" + str(packet))\n",
    "            except Exception as e:\n",
    "                self.print_(\"Sending error has occurred.\")\n",
    "                traceback.print_exc()\n",
    "                \n",
    "    def __receive(self):\n",
    "        # Receiving/processing function\n",
    "        while self.active:\n",
    "            try:\n",
    "                if len(self.inbox):\n",
    "                    packet = self.inbox.pop(0)\n",
    "                    self.print_(\"Received: \" + str(packet))\n",
    "            except Exception as e:\n",
    "                self.print_(\"Receiving error has occurred.\")\n",
    "                traceback.print_exc()\n",
    "        pass\n",
    "    def send(self, payload, address):\n",
    "        # Application layer send function\n",
    "        # Create packet\n",
    "        packet = Packet(self.ip, address, payload)\n",
    "        # Load packet into outbox\n",
    "        self.outbox.append(packet)"
   ]
  },
  {
   "cell_type": "markdown",
   "metadata": {},
   "source": [
    "## Client"
   ]
  },
  {
   "cell_type": "code",
   "execution_count": 9,
   "metadata": {},
   "outputs": [],
   "source": [
    "# A single record.\n",
    "class Record:\n",
    "    def __init__(self, ip, weights, expiry):\n",
    "        self.ip = ip\n",
    "        self.weights = weights\n",
    "        self.expiry = expiry\n",
    "    def step(self, s=1):\n",
    "        self.expiry -= 1\n",
    "        if self.expiry <= 0:\n",
    "            return True\n",
    "        else:\n",
    "            return False\n",
    "\n",
    "# Holds and manages records and requests.\n",
    "class GuestBook:\n",
    "    def __init__(self):\n",
    "        self.records = {}\n",
    "    def encounter(self, ip, weights, expiry):\n",
    "        self.records[ip] = Record(ip, weights, expiry)\n",
    "    def step(self):\n",
    "        # Increment another step and reduce expirations across records.\n",
    "        for ip in self.records.keys():\n",
    "            # If incremental step results in expiration, remove record.\n",
    "            if self.records[ip].step():\n",
    "                expunged = self.records.pop(ip)\n",
    "                \n",
    "\n",
    "class Client:\n",
    "    def __init__(self, netNode=None, ip=None, neighbor_addrs=None):\n",
    "        if netNode is not None:\n",
    "            self.net = netNode\n",
    "        else:\n",
    "            self.net = DummyNet(ip, neighbor_addrs)\n",
    "    def transmit(self, payload, target_addr):\n",
    "        self.net.send(payload, target_addr)"
   ]
  },
  {
   "cell_type": "markdown",
   "metadata": {},
   "source": [
    "## Execution"
   ]
  },
  {
   "cell_type": "code",
   "execution_count": 8,
   "metadata": {},
   "outputs": [
    {
     "name": "stdout",
     "output_type": "stream",
     "text": [
      "NET::[10.0.0.1]::Sent: src=10.0.0.1,dest=10.0.0.2,data=1598289451.5475302\n",
      "NET::[10.0.0.2]::Received: src=10.0.0.1,dest=10.0.0.2,data=1598289451.5475302\n",
      "NET::[10.0.0.2]::Sent: src=10.0.0.2,dest=10.0.0.3,data=1598289454.9727702\n",
      "NET::[10.0.0.3]::Received: src=10.0.0.2,dest=10.0.0.3,data=1598289454.9727702\n"
     ]
    }
   ],
   "source": [
    "import time\n",
    "from datetime import datetime\n",
    "\n",
    "# Create a graph\n",
    "graph = {}\n",
    "graph[\"10.0.0.1\"] = [\"10.0.0.2\", \"10.0.0.3\"]\n",
    "graph[\"10.0.0.2\"] = [\"10.0.0.1\", \"10.0.0.3\"]\n",
    "graph[\"10.0.0.3\"] = [\"10.0.0.1\", \"10.0.0.2\"]\n",
    "\n",
    "# Create nodes for the virtual network\n",
    "ipRegistry = {}\n",
    "for addr in graph.keys():\n",
    "    newNode = DummyNet(addr, graph[addr])\n",
    "    ipRegistry[addr] = newNode\n",
    "# Build network (decentralized)\n",
    "for addr in graph.keys():\n",
    "    ipRegistry[addr].init_network(ipRegistry)\n",
    "\n",
    "# Create clients\n",
    "clientDict = {}\n",
    "for ip in ipRegistry.keys():\n",
    "    clientDict[ip] = Client(netNode=ipRegistry[ip])\n",
    "\n",
    "clientDict[\"10.0.0.1\"].transmit(str(time.time()), \"10.0.0.2\")\n",
    "time.sleep(2.5)\n",
    "clientDict[\"10.0.0.2\"].transmit(str(time.time()), \"10.0.0.3\")\n",
    "time.sleep(2.5)\n",
    "\n",
    "# Kill all nodes\n",
    "for addr in graph.keys():\n",
    "    ipRegistry[addr].kill()\n"
   ]
  },
  {
   "cell_type": "code",
   "execution_count": null,
   "metadata": {},
   "outputs": [],
   "source": []
  }
 ],
 "metadata": {
  "kernelspec": {
   "display_name": "Python 3",
   "language": "python",
   "name": "python3"
  },
  "language_info": {
   "codemirror_mode": {
    "name": "ipython",
    "version": 3
   },
   "file_extension": ".py",
   "mimetype": "text/x-python",
   "name": "python",
   "nbconvert_exporter": "python",
   "pygments_lexer": "ipython3",
   "version": "3.8.2"
  }
 },
 "nbformat": 4,
 "nbformat_minor": 4
}
